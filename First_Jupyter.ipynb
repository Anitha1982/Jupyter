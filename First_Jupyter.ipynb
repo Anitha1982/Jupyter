{
 "cells": [
  {
   "cell_type": "markdown",
   "id": "09bad1cb-6665-4e20-8844-5177367e2f3b",
   "metadata": {},
   "source": [
    "My first Jupyter Notebook"
   ]
  },
  {
   "cell_type": "code",
   "execution_count": null,
   "id": "5304f6a6-1afd-4937-88b4-296a8df5e79b",
   "metadata": {},
   "outputs": [],
   "source": [
    "print(\"Cloning Repository\")"
   ]
  },
  {
   "cell_type": "code",
   "execution_count": 1,
   "id": "cfc4cc78-a452-47c1-a3d9-81bf2ee14f97",
   "metadata": {},
   "outputs": [
    {
     "name": "stdout",
     "output_type": "stream",
     "text": [
      "Hello\n"
     ]
    }
   ],
   "source": [
    "print(\"Hello\")"
   ]
  }
 ],
 "metadata": {
  "kernelspec": {
   "display_name": "Python 3 (ipykernel)",
   "language": "python",
   "name": "python3"
  },
  "language_info": {
   "codemirror_mode": {
    "name": "ipython",
    "version": 3
   },
   "file_extension": ".py",
   "mimetype": "text/x-python",
   "name": "python",
   "nbconvert_exporter": "python",
   "pygments_lexer": "ipython3",
   "version": "3.12.1"
  }
 },
 "nbformat": 4,
 "nbformat_minor": 5
}
